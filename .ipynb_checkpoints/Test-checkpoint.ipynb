{
 "cells": [
  {
   "cell_type": "code",
   "execution_count": 1,
   "metadata": {},
   "outputs": [
    {
     "name": "stdout",
     "output_type": "stream",
     "text": [
      "... test case 0 ...\n",
      "<<< 5 4\n",
      "Yay!\n",
      "... test case 1 ...\n",
      "<<< 8 8\n",
      "Yay!\n",
      "... test case 2 ...\n",
      "<<< 11 4\n",
      ":(\n"
     ]
    }
   ],
   "source": [
    "%%test_input https://abc100.contest.atcoder.jp/tasks/abc100_a\n",
    "a, b = map(int, input().split())\n",
    "print(\"Yay!\") if a <= 8 and b <= 8 else print(\":(\")"
   ]
  },
  {
   "cell_type": "code",
   "execution_count": 2,
   "metadata": {},
   "outputs": [
    {
     "name": "stdout",
     "output_type": "stream",
     "text": [
      "... test case 0 ...\n",
      "<<< 5 4\n",
      "Yay!\n",
      "... test case 1 ...\n",
      "<<< 8 8\n",
      "Yay!\n",
      "... test case 2 ...\n",
      "<<< 11 4\n",
      ":)\n"
     ]
    }
   ],
   "source": [
    "%%test_input https://abc100.contest.atcoder.jp/tasks/abc100_a\n",
    "a, b = map(int, input().split())\n",
    "print(\"Yay!\") if a <= 8 and b <= 8 else print(\":)\")"
   ]
  },
  {
   "cell_type": "markdown",
   "metadata": {},
   "source": [
    "memo\n",
    "ジャッジ機能はまだない."
   ]
  },
  {
   "cell_type": "code",
   "execution_count": null,
   "metadata": {},
   "outputs": [],
   "source": []
  }
 ],
 "metadata": {
  "kernelspec": {
   "display_name": "Python 3",
   "language": "python",
   "name": "python3"
  },
  "language_info": {
   "codemirror_mode": {
    "name": "ipython",
    "version": 3
   },
   "file_extension": ".py",
   "mimetype": "text/x-python",
   "name": "python",
   "nbconvert_exporter": "python",
   "pygments_lexer": "ipython3",
   "version": "3.6.5"
  }
 },
 "nbformat": 4,
 "nbformat_minor": 2
}
